{
 "cells": [
  {
   "cell_type": "code",
   "execution_count": 14,
   "id": "54bbe5ef",
   "metadata": {},
   "outputs": [
    {
     "name": "stdout",
     "output_type": "stream",
     "text": [
      "[{'title': 'The Long Haul (Diary of a Wimpy Kid #9)', 'price': '£44.07', 'stock': 'In stock'}, {'title': 'Old School (Diary of a Wimpy Kid #10)', 'price': '£11.83', 'stock': 'In stock'}, {'title': \"I Know What I'm Doing -- and Other Lies I Tell Myself: Dispatches from a Life Under Construction\", 'price': '£25.98', 'stock': 'In stock'}, {'title': 'Hyperbole and a Half: Unfortunate Situations, Flawed Coping Mechanisms, Mayhem, and Other Things That Happened', 'price': '£14.75', 'stock': 'In stock'}, {'title': 'Dress Your Family in Corduroy and Denim', 'price': '£43.68', 'stock': 'In stock'}, {'title': \"Toddlers Are A**holes: It's Not Your Fault\", 'price': '£25.55', 'stock': 'In stock'}, {'title': 'When You Are Engulfed in Flames', 'price': '£30.89', 'stock': 'In stock'}, {'title': 'Naked', 'price': '£31.69', 'stock': 'In stock'}, {'title': \"Lamb: The Gospel According to Biff, Christ's Childhood Pal\", 'price': '£55.50', 'stock': 'In stock'}, {'title': 'Holidays on Ice', 'price': '£51.07', 'stock': 'In stock'}]\n"
     ]
    }
   ],
   "source": [
    "from selenium.webdriver import Chrome, ChromeOptions\n",
    "from selenium.webdriver.common.by import By\n",
    "import pandas as pd\n",
    "\n",
    "def get_data(url) -> list:\n",
    "    browser_options = ChromeOptions()\n",
    "    browser_options.headless = True\n",
    "    \n",
    "    driver = Chrome(options=browser_options)\n",
    "    driver.get(url)\n",
    "\n",
    "    element = driver.find_element(By.LINK_TEXT, \"Humor\")\n",
    "    element.click()\n",
    "\n",
    "    books = driver.find_elements(By.CSS_SELECTOR, \".product_pod\")\n",
    "    data = []\n",
    "    for book in books:\n",
    "        title = book.find_element(By.CSS_SELECTOR, \"h3 > a\")\n",
    "        price = book.find_element(By.CSS_SELECTOR, \".price_color\")\n",
    "        stock = book.find_element(By.CSS_SELECTOR, \".instock.availability\")\n",
    "        book_item = {\n",
    "            'title': title.get_attribute(\"title\"),\n",
    "            'price': price.text,\n",
    "            'stock': stock. text\n",
    "        }\n",
    "        data.append(book_item)\n",
    "\n",
    "    driver.quit()\n",
    "    df = pd.DataFrame(data)\n",
    "    df.to_csv(\"data.csv\")\n",
    "    return data\n",
    "\n",
    "\n",
    "def main():\n",
    "    data = get_data(\"https://books.toscrape.com/\")\n",
    "    print(data)\n",
    "    \n",
    "\n",
    "if __name__ == '__main__':\n",
    "    main()"
   ]
  },
  {
   "cell_type": "code",
   "execution_count": null,
   "id": "b53017cd",
   "metadata": {},
   "outputs": [],
   "source": []
  }
 ],
 "metadata": {
  "kernelspec": {
   "display_name": "Python 3 (ipykernel)",
   "language": "python",
   "name": "python3"
  },
  "language_info": {
   "codemirror_mode": {
    "name": "ipython",
    "version": 3
   },
   "file_extension": ".py",
   "mimetype": "text/x-python",
   "name": "python",
   "nbconvert_exporter": "python",
   "pygments_lexer": "ipython3",
   "version": "3.9.12"
  }
 },
 "nbformat": 4,
 "nbformat_minor": 5
}
